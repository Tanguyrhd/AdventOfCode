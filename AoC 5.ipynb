{
 "cells": [
  {
   "cell_type": "code",
   "execution_count": 1,
   "id": "fda6d5a8-6ac8-468f-8768-da06a85815fb",
   "metadata": {
    "tags": []
   },
   "outputs": [],
   "source": [
    "import re\n",
    "from collections import Counter"
   ]
  },
  {
   "cell_type": "code",
   "execution_count": 3,
   "id": "e3317405-ad23-4434-8199-edaf504cfe8a",
   "metadata": {
    "tags": []
   },
   "outputs": [],
   "source": [
    "with open('C:/Users/tangu/OneDrive/Documents/2- Perso/CODING/Projet_Portfolio/AdventofCode/2024/5.txt', 'r') as file:\n",
    "    #grid = [list(line.strip()) for line in file]\n",
    "    contenu = file.read()\n",
    "\n",
    "# Séparer les deux sections par une ligne vide\n",
    "sections = contenu.strip().split('\\n\\n')\n",
    "\n",
    "# Première section\n",
    "section1 = [tuple(map(int, ligne.split('|'))) for ligne in sections[0].splitlines()]\n",
    "\n",
    "# Deuxième section\n",
    "section2 = [list(map(int, ligne.split(','))) for ligne in sections[1].splitlines()]\n"
   ]
  },
  {
   "cell_type": "code",
   "execution_count": 9,
   "id": "d66b82c4-b03e-4098-a5f8-d8c7e5547b1e",
   "metadata": {
    "tags": []
   },
   "outputs": [
    {
     "data": {
      "text/plain": [
       "5391"
      ]
     },
     "execution_count": 9,
     "metadata": {},
     "output_type": "execute_result"
    }
   ],
   "source": [
    "update = []\n",
    "for page in section2:\n",
    "    rule = True\n",
    "    for a, b in section1:\n",
    "        if a in page and b in page:\n",
    "            if page.index(a) > page.index(b):\n",
    "                rule = False\n",
    "    if rule:\n",
    "        update.append(page)\n",
    "somme = []\n",
    "for update in update:\n",
    "    milieu = int(len(update) / 2)\n",
    "    somme.append(update[milieu])\n",
    "sum(somme)"
   ]
  },
  {
   "cell_type": "code",
   "execution_count": 7,
   "id": "0ddf331f-7f7e-4694-8286-7ecdd855b144",
   "metadata": {
    "tags": []
   },
   "outputs": [],
   "source": [
    "final = []\n",
    "for page in section2:\n",
    "    update = []\n",
    "    for a, b in section1:\n",
    "        if a in page and b in page:\n",
    "            update.append(a)\n",
    "    R = Counter(update)\n",
    "    result = [item[0] for item in R.most_common()]\n",
    "    for elem in page:\n",
    "        if elem not in result:\n",
    "            result.append(elem)\n",
    "    final.append(result)"
   ]
  },
  {
   "cell_type": "code",
   "execution_count": 15,
   "id": "c5876635-bdd2-427a-8b53-3e64f63d3f06",
   "metadata": {
    "tags": []
   },
   "outputs": [
    {
     "data": {
      "text/plain": [
       "6142"
      ]
     },
     "execution_count": 15,
     "metadata": {},
     "output_type": "execute_result"
    }
   ],
   "source": [
    "somme1 = []\n",
    "for i in final:\n",
    "    milieu = int(len(i) / 2)\n",
    "    somme1.append(i[milieu])\n",
    "sum(somme1)-sum(somme)\n"
   ]
  },
  {
   "cell_type": "code",
   "execution_count": null,
   "id": "634bc920-8e3b-4cc0-838e-fbc0638f749e",
   "metadata": {},
   "outputs": [],
   "source": [
    "    somme = []\n",
    "    for update in update:\n",
    "        milieu = int(len(update) / 2)\n",
    "        somme.append(update[milieu])\n",
    "    sum(somme)"
   ]
  },
  {
   "cell_type": "code",
   "execution_count": 32,
   "id": "ce15845f-bfc5-4d24-8e91-a1dad27aedab",
   "metadata": {
    "tags": []
   },
   "outputs": [],
   "source": [
    "def process_queue(rules, sequences):\n",
    "    \"\"\"\n",
    "    Process sequences according to ordering rules and return valid and corrected sequences.\n",
    "    \n",
    "    Args:\n",
    "        rules: List of tuples (a, b) where 'a' should come before 'b' in sequence\n",
    "        sequences: List of sequences to check against rules\n",
    "        \n",
    "    Returns:\n",
    "        tuple: (valid_sequences, corrected_sequences)\n",
    "            - valid_sequences: List of sequences that follow all rules\n",
    "            - corrected_sequences: List of corrected versions of invalid sequences\n",
    "    \"\"\"\n",
    "    valid_sequences = []\n",
    "    invalid_sequences = []\n",
    "    corrected_sequences = []\n",
    "    \n",
    "    # Validate sequences against rules\n",
    "    for sequence in sequences:\n",
    "        is_valid = True\n",
    "        for before, after in rules:\n",
    "            if before in sequence and after in sequence:\n",
    "                if sequence.index(before) > sequence.index(after):\n",
    "                    is_valid = False\n",
    "                    invalid_sequences.append(sequence)\n",
    "                    break\n",
    "        if is_valid:\n",
    "            valid_sequences.append(sequence)\n",
    "    \n",
    "    # Correct invalid sequences\n",
    "    for sequence in invalid_sequences:\n",
    "        # Find elements that appear in rule violations\n",
    "        rule_elements = []\n",
    "        for before, after in rules:\n",
    "            if before in sequence and after in sequence:\n",
    "                rule_elements.extend([before])\n",
    "        \n",
    "        # Count frequency of rule elements\n",
    "        element_counts = Counter(rule_elements)\n",
    "        \n",
    "        # Sort elements by frequency and create new sequence\n",
    "        frequent_elements = [item[0] for item in element_counts.most_common()]\n",
    "        \n",
    "        # Add remaining elements that weren't involved in rule violations\n",
    "        corrected = frequent_elements.copy()\n",
    "        for elem in sequence:\n",
    "            if elem not in corrected:\n",
    "                corrected.append(elem)\n",
    "                \n",
    "        corrected_sequences.append(corrected)\n",
    "    \n",
    "    return valid_sequences, corrected_sequences"
   ]
  },
  {
   "cell_type": "code",
   "execution_count": 34,
   "id": "e08c836e-13bc-4f50-ba64-91e03d9ecc50",
   "metadata": {
    "tags": []
   },
   "outputs": [],
   "source": [
    "def sum_middle(sequences):\n",
    "    \"\"\"\n",
    "    Calculate the sum of middle elements from a list of sequences.\n",
    "    For odd-length sequences, takes the middle element.\n",
    "    For even-length sequences, takes the element at floor(length/2).\n",
    "    \n",
    "    Args:\n",
    "        sequences: List of sequences (lists, tuples, or strings)\n",
    "        \n",
    "    Returns:\n",
    "        float or int: Sum of middle elements\n",
    "        \n",
    "    Raises:\n",
    "        ValueError: If sequences is empty or contains empty sequences\n",
    "        TypeError: If elements at middle positions are not numeric\n",
    "    \"\"\"\n",
    "    if not sequences:\n",
    "        raise ValueError(\"Input list cannot be empty\")\n",
    "        \n",
    "    middle_elements = []\n",
    "    \n",
    "    for sequence in sequences:\n",
    "        if not sequence:\n",
    "            raise ValueError(\"Sequences cannot be empty\")\n",
    "            \n",
    "        # Calculate middle index using floor division\n",
    "        middle = len(sequence) // 2\n",
    "        middle_element = sequence[middle]\n",
    "        \n",
    "        # Verify the middle element is numeric\n",
    "        if not isinstance(middle_element, (int, float)):\n",
    "            try:\n",
    "                middle_element = float(middle_element)\n",
    "            except (ValueError, TypeError):\n",
    "                raise TypeError(f\"Middle element '{middle_element}' is not numeric\")\n",
    "                \n",
    "        middle_elements.append(middle_element)\n",
    "    \n",
    "    return sum(middle_elements)"
   ]
  },
  {
   "cell_type": "code",
   "execution_count": 46,
   "id": "4cce7513-0c18-4cf1-bf03-8ea53c151976",
   "metadata": {
    "tags": []
   },
   "outputs": [
    {
     "name": "stdout",
     "output_type": "stream",
     "text": [
      "the sum of the middle element from the valid update is 5391\n",
      "and the sum of the middle element from the incorrectly-ordered updates is 6142\n"
     ]
    }
   ],
   "source": [
    "valid, corrected = process_queue(section1, section2)\n",
    "sum_valid = sum_middle(valid)\n",
    "sum_corrected = sum_middle(corrected)\n",
    "\n",
    "print(f'the sum of the middle element from the valid updates is {sum_valid}\\n' \n",
    "      f'and the sum of the middle element from the incorrectly-ordered updates is {sum_corrected}')"
   ]
  },
  {
   "cell_type": "code",
   "execution_count": null,
   "id": "70214bc9-dad5-410a-924e-cc31bce574e2",
   "metadata": {},
   "outputs": [],
   "source": []
  }
 ],
 "metadata": {
  "kernelspec": {
   "display_name": "Python 3 (ipykernel)",
   "language": "python",
   "name": "python3"
  },
  "language_info": {
   "codemirror_mode": {
    "name": "ipython",
    "version": 3
   },
   "file_extension": ".py",
   "mimetype": "text/x-python",
   "name": "python",
   "nbconvert_exporter": "python",
   "pygments_lexer": "ipython3",
   "version": "3.11.7"
  }
 },
 "nbformat": 4,
 "nbformat_minor": 5
}

{
 "cells": [
  {
   "cell_type": "code",
   "execution_count": 4,
   "id": "719a6874-7658-4655-882b-1501e887b95c",
   "metadata": {
    "tags": []
   },
   "outputs": [],
   "source": [
    "import pandas as pd\n",
    "import numpy as np"
   ]
  },
  {
   "cell_type": "code",
   "execution_count": 6,
   "id": "92cc491b-6b10-40b1-926b-9471826dc4e7",
   "metadata": {
    "tags": []
   },
   "outputs": [
    {
     "data": {
      "text/html": [
       "<div>\n",
       "<style scoped>\n",
       "    .dataframe tbody tr th:only-of-type {\n",
       "        vertical-align: middle;\n",
       "    }\n",
       "\n",
       "    .dataframe tbody tr th {\n",
       "        vertical-align: top;\n",
       "    }\n",
       "\n",
       "    .dataframe thead th {\n",
       "        text-align: right;\n",
       "    }\n",
       "</style>\n",
       "<table border=\"1\" class=\"dataframe\">\n",
       "  <thead>\n",
       "    <tr style=\"text-align: right;\">\n",
       "      <th></th>\n",
       "      <th>A</th>\n",
       "      <th>B</th>\n",
       "      <th>C</th>\n",
       "      <th>D</th>\n",
       "      <th>E</th>\n",
       "      <th>F</th>\n",
       "      <th>G</th>\n",
       "      <th>H</th>\n",
       "    </tr>\n",
       "  </thead>\n",
       "  <tbody>\n",
       "    <tr>\n",
       "      <th>0</th>\n",
       "      <td>8</td>\n",
       "      <td>11</td>\n",
       "      <td>13</td>\n",
       "      <td>14</td>\n",
       "      <td>15</td>\n",
       "      <td>18.0</td>\n",
       "      <td>17.0</td>\n",
       "      <td>NaN</td>\n",
       "    </tr>\n",
       "    <tr>\n",
       "      <th>1</th>\n",
       "      <td>43</td>\n",
       "      <td>44</td>\n",
       "      <td>47</td>\n",
       "      <td>49</td>\n",
       "      <td>52</td>\n",
       "      <td>52.0</td>\n",
       "      <td>NaN</td>\n",
       "      <td>NaN</td>\n",
       "    </tr>\n",
       "    <tr>\n",
       "      <th>2</th>\n",
       "      <td>37</td>\n",
       "      <td>40</td>\n",
       "      <td>42</td>\n",
       "      <td>43</td>\n",
       "      <td>44</td>\n",
       "      <td>47.0</td>\n",
       "      <td>51.0</td>\n",
       "      <td>NaN</td>\n",
       "    </tr>\n",
       "    <tr>\n",
       "      <th>3</th>\n",
       "      <td>70</td>\n",
       "      <td>73</td>\n",
       "      <td>76</td>\n",
       "      <td>79</td>\n",
       "      <td>86</td>\n",
       "      <td>NaN</td>\n",
       "      <td>NaN</td>\n",
       "      <td>NaN</td>\n",
       "    </tr>\n",
       "    <tr>\n",
       "      <th>4</th>\n",
       "      <td>17</td>\n",
       "      <td>19</td>\n",
       "      <td>17</td>\n",
       "      <td>20</td>\n",
       "      <td>23</td>\n",
       "      <td>NaN</td>\n",
       "      <td>NaN</td>\n",
       "      <td>NaN</td>\n",
       "    </tr>\n",
       "  </tbody>\n",
       "</table>\n",
       "</div>"
      ],
      "text/plain": [
       "    A   B   C   D   E     F     G   H\n",
       "0   8  11  13  14  15  18.0  17.0 NaN\n",
       "1  43  44  47  49  52  52.0   NaN NaN\n",
       "2  37  40  42  43  44  47.0  51.0 NaN\n",
       "3  70  73  76  79  86   NaN   NaN NaN\n",
       "4  17  19  17  20  23   NaN   NaN NaN"
      ]
     },
     "execution_count": 6,
     "metadata": {},
     "output_type": "execute_result"
    }
   ],
   "source": [
    "# Point the path file of the dataset\n",
    "data = \"C:/Users/tangu/OneDrive/Documents/2- Perso/CODING/Projet_Portfolio/AdventofCode/2024/2.csv\"\n",
    "df = pd.read_csv(data)\n",
    "df.head()"
   ]
  },
  {
   "cell_type": "code",
   "execution_count": 8,
   "id": "3f3c8168-2c97-454e-9f64-b83c2f434da5",
   "metadata": {
    "tags": []
   },
   "outputs": [],
   "source": [
    "data = df.values.tolist()"
   ]
  },
  {
   "cell_type": "code",
   "execution_count": 12,
   "id": "50ac979a-dc73-4f15-a0fb-f982d29541b2",
   "metadata": {
    "tags": []
   },
   "outputs": [],
   "source": [
    "dt = [[val for val in ligne if not pd.isna(val)] for ligne in data]"
   ]
  },
  {
   "cell_type": "code",
   "execution_count": 16,
   "id": "75cd88af-1d65-4396-8405-545f48acd491",
   "metadata": {
    "tags": []
   },
   "outputs": [],
   "source": [
    "def est_croissante(liste):\n",
    "    return all(liste[i] < liste[i+1] for i in range(len(liste) - 1))"
   ]
  },
  {
   "cell_type": "code",
   "execution_count": 18,
   "id": "7b7207b0-3d1a-4d49-80b4-ef490e84deda",
   "metadata": {
    "tags": []
   },
   "outputs": [],
   "source": [
    "def est_decroissante(liste):\n",
    "    return all(liste[i] > liste[i+1] for i in range(len(liste) - 1))"
   ]
  },
  {
   "cell_type": "code",
   "execution_count": 20,
   "id": "e7f165c6-d73c-4c0c-bfa6-850c01a37fa2",
   "metadata": {
    "tags": []
   },
   "outputs": [],
   "source": [
    "def verify_levels(lst):\n",
    "    for i in range(len(lst) - 1):\n",
    "        diff = abs(lst[i] - lst[i + 1])\n",
    "        if diff < 1 or diff > 3:\n",
    "            return False\n",
    "    return True"
   ]
  },
  {
   "cell_type": "code",
   "execution_count": 34,
   "id": "1d9513b5-cb9c-4a5e-841e-6e2dd77f23a5",
   "metadata": {
    "tags": []
   },
   "outputs": [],
   "source": [
    "def is_safe(ligne):\n",
    "    return (est_croissante(ligne) or est_decroissante(ligne)) and verify_levels(ligne)"
   ]
  },
  {
   "cell_type": "code",
   "execution_count": 36,
   "id": "98a68743-751b-4256-925f-7f33f91a7cc9",
   "metadata": {
    "tags": []
   },
   "outputs": [],
   "source": [
    "safe = 0\n",
    "for ligne in dt:\n",
    "    if is_safe(ligne):\n",
    "        safe += 1\n",
    "    else:\n",
    "         # Tester si supprimer un élément rend la ligne sûre\n",
    "        for i in range(len(ligne)):\n",
    "            ligne_modifiee = ligne[:i] + ligne[i+1:]  # Supprimer l'élément à l'indice i\n",
    "            if is_safe(ligne_modifiee):\n",
    "                safe += 1\n",
    "                break "
   ]
  },
  {
   "cell_type": "code",
   "execution_count": 38,
   "id": "714abf64-6f8a-49a0-a4d6-3648d4a640d0",
   "metadata": {
    "tags": []
   },
   "outputs": [
    {
     "data": {
      "text/plain": [
       "536"
      ]
     },
     "execution_count": 38,
     "metadata": {},
     "output_type": "execute_result"
    }
   ],
   "source": [
    "safe"
   ]
  },
  {
   "cell_type": "code",
   "execution_count": null,
   "id": "e1c49fb2-6f8e-4ce7-8c44-7a879e9bdbec",
   "metadata": {},
   "outputs": [],
   "source": []
  }
 ],
 "metadata": {
  "kernelspec": {
   "display_name": "Python 3 (ipykernel)",
   "language": "python",
   "name": "python3"
  },
  "language_info": {
   "codemirror_mode": {
    "name": "ipython",
    "version": 3
   },
   "file_extension": ".py",
   "mimetype": "text/x-python",
   "name": "python",
   "nbconvert_exporter": "python",
   "pygments_lexer": "ipython3",
   "version": "3.11.7"
  }
 },
 "nbformat": 4,
 "nbformat_minor": 5
}

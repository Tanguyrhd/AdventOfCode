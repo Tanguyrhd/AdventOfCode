{
 "cells": [
  {
   "cell_type": "code",
   "execution_count": 1,
   "id": "c278971b-14ca-491a-aa91-b059b1395901",
   "metadata": {
    "tags": []
   },
   "outputs": [],
   "source": [
    "import re\n",
    "from collections import Counter"
   ]
  },
  {
   "cell_type": "code",
   "execution_count": 2,
   "id": "ad61a318-1015-4299-b2b9-24d32c2e829a",
   "metadata": {
    "tags": []
   },
   "outputs": [],
   "source": [
    "with open('C:/Users/tangu/OneDrive/Documents/2- Perso/CODING/Projet_Portfolio/AdventofCode/2024/6.txt', 'r') as file:\n",
    "    grid = [list(line.strip()) for line in file]"
   ]
  },
  {
   "cell_type": "code",
   "execution_count": 3,
   "id": "7a0e6eeb-a520-4fbc-be79-dd83753d2aee",
   "metadata": {
    "tags": []
   },
   "outputs": [],
   "source": [
    "def find_path_positions(grid):\n",
    "    \"\"\"Find all positions visited by initial path\"\"\"\n",
    "    # Find starting position\n",
    "    p = (-1, -1)\n",
    "    for i in range(len(grid)):\n",
    "        for j in range(len(grid[0])):\n",
    "            if grid[i][j] == \"^\":\n",
    "                p = (i, j)\n",
    "                break\n",
    "        if p != (-1, -1):\n",
    "            break\n",
    "    \n",
    "    path_positions = set()  # Track only positions\n",
    "    d = (-1, 0)  # Initial direction\n",
    "    \n",
    "    # find the path by going forwards until it meets an obsatcale '#' and turn right, then repeat until it leaves the map area.\n",
    "    while p[0] in range(len(grid)) and p[1] in range(len(grid[0])):\n",
    "        path_positions.add(p)\n",
    "        pp = p[0] + d[0], p[1] + d[1]\n",
    "        while (pp[0] in range(len(grid)) and pp[1] in range(len(grid[0])) and \n",
    "               grid[pp[0]][pp[1]] == \"#\"):\n",
    "            d = d[1], -d[0]  # Turn right\n",
    "            pp = p[0] + d[0], p[1] + d[1]\n",
    "        p = pp\n",
    "    \n",
    "    return path_positions\n",
    "\n",
    "def find_path_with_obstacle(grid, obs_pos, initial_path):\n",
    "    \"\"\"Optimized path finding that only checks positions that could create loops\"\"\"\n",
    "    if obs_pos not in initial_path:\n",
    "        return False  # If obstacle isn't on initial path, it can't create a loop\n",
    "        \n",
    "    # Create a copy of the grid with the new obstacle\n",
    "    new_grid = [row[:] for row in grid]\n",
    "    new_grid[obs_pos[0]][obs_pos[1]] = \"#\"\n",
    "    \n",
    "    # Find starting position\n",
    "    for i in range(len(grid)):\n",
    "        for j in range(len(grid[0])):\n",
    "            if grid[i][j] == \"^\":\n",
    "                p = (i, j)\n",
    "                break\n",
    "                \n",
    "    visited = set()  # Track (position, direction) pairs\n",
    "    d = (-1, 0)\n",
    "    max_steps = len(grid) * len(grid[0]) * 4  # Maximum possible unique states\n",
    "    steps = 0\n",
    "    \n",
    "    # find the possible infinite loop if we add an obstacle\n",
    "    while p[0] in range(len(grid)) and p[1] in range(len(grid[0])):\n",
    "        state = (p[0], p[1], d[0], d[1])\n",
    "        if state in visited:\n",
    "            return True\n",
    "        visited.add(state)\n",
    "        \n",
    "        pp = p[0] + d[0], p[1] + d[1]\n",
    "        while (pp[0] in range(len(grid)) and pp[1] in range(len(grid[0])) and \n",
    "               new_grid[pp[0]][pp[1]] == \"#\"):\n",
    "            d = d[1], -d[0]\n",
    "            pp = p[0] + d[0], p[1] + d[1]\n",
    "        p = pp\n",
    "        \n",
    "        steps += 1\n",
    "        if steps > max_steps:\n",
    "            return False  # Early termination if we've exceeded maximum possible states\n",
    "    \n",
    "    return False\n",
    "\n",
    "def count_loop_positions(grid):\n",
    "    # First find all positions in the initial path\n",
    "    initial_path = find_path_positions(grid)\n",
    "    \n",
    "    count = 0\n",
    "    # Only check positions that are in the initial path\n",
    "    for i in range(len(grid)):\n",
    "        for j in range(len(grid[0])):\n",
    "            if grid[i][j] == \".\" and (i, j) in initial_path:\n",
    "                if find_path_with_obstacle(grid, (i, j), initial_path):\n",
    "                    count += 1\n",
    "    return len(initial_path), count"
   ]
  },
  {
   "cell_type": "code",
   "execution_count": 4,
   "id": "13ca9c89-6adb-41d9-96a8-ee730c16111b",
   "metadata": {
    "tags": []
   },
   "outputs": [
    {
     "name": "stdout",
     "output_type": "stream",
     "text": [
      "There is 5030 distinct positions visited before leaving the mapped area \n",
      "There is 1928 different positions to add an obstruction that will create an infinite loop\n"
     ]
    }
   ],
   "source": [
    "(result1, result2) = count_loop_positions(grid)\n",
    "print(f'There is {result1} distinct positions visited before leaving the mapped area \\n'\n",
    "      f'There is {result2} different positions to add an obstruction that will create an infinite loop')"
   ]
  },
  {
   "cell_type": "code",
   "execution_count": null,
   "id": "92616ec6-0588-4a44-8a5b-7a10fce7397d",
   "metadata": {},
   "outputs": [],
   "source": []
  }
 ],
 "metadata": {
  "kernelspec": {
   "display_name": "Python 3 (ipykernel)",
   "language": "python",
   "name": "python3"
  },
  "language_info": {
   "codemirror_mode": {
    "name": "ipython",
    "version": 3
   },
   "file_extension": ".py",
   "mimetype": "text/x-python",
   "name": "python",
   "nbconvert_exporter": "python",
   "pygments_lexer": "ipython3",
   "version": "3.11.7"
  }
 },
 "nbformat": 4,
 "nbformat_minor": 5
}

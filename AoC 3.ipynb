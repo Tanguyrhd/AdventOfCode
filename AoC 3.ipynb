{
 "cells": [
  {
   "cell_type": "code",
   "execution_count": 1,
   "id": "d48360c4-f670-45df-b63a-046e9988f298",
   "metadata": {
    "tags": []
   },
   "outputs": [],
   "source": [
    "import re"
   ]
  },
  {
   "cell_type": "code",
   "execution_count": 57,
   "id": "19091e88-47a6-420d-8a11-1e21b82a3950",
   "metadata": {
    "tags": []
   },
   "outputs": [],
   "source": [
    "# Trouver tous les termes de la forme `mul(x, y)` avec x et y des nombre entre 1 et 3 digits\n",
    "pattern = r\"mul\\((\\d{1,3}),(\\d{1,3})\\)\"\n",
    "dodont = r\"do\\(\\)(.*)don\\'t\\(\\)\"\n",
    "first_mul = r\"(.*?)don\\'t\\(\\)\""
   ]
  },
  {
   "cell_type": "code",
   "execution_count": null,
   "id": "24de882b-659a-4eb7-abb9-7367c0e0fa77",
   "metadata": {},
   "outputs": [],
   "source": [
    "with open('C:/Users/tangu/OneDrive/Documents/2- Perso/CODING/Projet_Portfolio/AdventofCode/2024/3.txt', 'r') as file:\n",
    "    content = file.read()\n",
    "    firstmul = re.findall(first_mul,content)\n",
    "    matches = re.findall(pattern, firstmul[0])\n",
    "\n",
    "    dos = re.findall(dodont, content)\n",
    "    mul = []\n",
    "    # Trouve tous les mul(x,y) avec x et y entre 1-999\n",
    "    for elem in dos[1:]:\n",
    "        matches2 = re.findall(pattern, elem)\n",
    "        mul.append(matches2)"
   ]
  },
  {
   "cell_type": "code",
   "execution_count": 107,
   "id": "a3e4f597-8463-4f7a-a67b-b62a9279cbe8",
   "metadata": {
    "tags": []
   },
   "outputs": [
    {
     "name": "stdout",
     "output_type": "stream",
     "text": [
      "183669043 59097164\n"
     ]
    }
   ],
   "source": [
    "p1 = 0\n",
    "p2 = 0\n",
    "enable = True\n",
    "final = []\n",
    "\n",
    "for i in range(len(content)):\n",
    "    if content[i:].startswith(\"do()\"):\n",
    "        enable = True\n",
    "    if content[i:].startswith(\"don't()\"):\n",
    "        enable = False\n",
    "    trouver = re.match(r\"mul\\((\\d{1,3}),(\\d{1,3})\\)\",content[i:])\n",
    "    if trouver is not None:\n",
    "        x,y = int(trouver[1]), int(trouver[2])\n",
    "        p1 += x*y\n",
    "        if enable == True:\n",
    "            p2 += x*y\n",
    "\n",
    "print(p1,p2)"
   ]
  },
  {
   "cell_type": "code",
   "execution_count": 61,
   "id": "f23b5aa8-f2e0-4781-ba5e-e3f372393004",
   "metadata": {
    "tags": []
   },
   "outputs": [],
   "source": [
    "# Conversion en liste simple\n",
    "allmul = [pattern for sous_liste in mul for pattern in sous_liste]"
   ]
  },
  {
   "cell_type": "code",
   "execution_count": 63,
   "id": "94d671d1-0324-4b9f-814e-4f2034206fdc",
   "metadata": {
    "tags": []
   },
   "outputs": [],
   "source": [
    "matches.extend(allmul)"
   ]
  },
  {
   "cell_type": "code",
   "execution_count": 65,
   "id": "f4e3b5b0-09a9-4da4-8271-9810a3ec3f61",
   "metadata": {
    "tags": []
   },
   "outputs": [],
   "source": [
    "result = []\n",
    "for x, y in matches:\n",
    "    mult = int(x)*int(y)\n",
    "    result.append(mult)"
   ]
  },
  {
   "cell_type": "code",
   "execution_count": 67,
   "id": "33dfb68d-f512-44a3-b3e5-307fd2c1795e",
   "metadata": {
    "tags": []
   },
   "outputs": [
    {
     "data": {
      "text/plain": [
       "96386718"
      ]
     },
     "execution_count": 67,
     "metadata": {},
     "output_type": "execute_result"
    }
   ],
   "source": [
    "sum(result)"
   ]
  },
  {
   "cell_type": "code",
   "execution_count": 69,
   "id": "33e26a8d-faee-4e19-b426-39f61312836b",
   "metadata": {
    "tags": []
   },
   "outputs": [
    {
     "name": "stdout",
     "output_type": "stream",
     "text": [
      "183669043\n",
      "59097164\n"
     ]
    }
   ],
   "source": [
    "import sys\n",
    "import re\n",
    "from collections import defaultdict, Counter\n",
    "\n",
    "p1 = 0\n",
    "p2 = 0\n",
    "enabled = True\n",
    "final = []\n",
    "for i in range(len(content)):\n",
    "    if content[i:].startswith('do()'):\n",
    "        enabled = True\n",
    "    if content[i:].startswith(\"don't()\"):\n",
    "        enabled = False\n",
    "    instr = re.match(r'mul\\((\\d{1,3}),(\\d{1,3})\\)', content[i:])\n",
    "    if instr is not None:\n",
    "        x,y = int(instr.group(1)), int(instr.group(2))\n",
    "        p1 += x*y\n",
    "        if enabled:\n",
    "            p2 += x*y\n",
    "print(p1)\n",
    "print(p2)"
   ]
  },
  {
   "cell_type": "code",
   "execution_count": null,
   "id": "5d6167a8-30f1-49c6-ac17-a91e903f5cd7",
   "metadata": {},
   "outputs": [],
   "source": []
  }
 ],
 "metadata": {
  "kernelspec": {
   "display_name": "Python 3 (ipykernel)",
   "language": "python",
   "name": "python3"
  },
  "language_info": {
   "codemirror_mode": {
    "name": "ipython",
    "version": 3
   },
   "file_extension": ".py",
   "mimetype": "text/x-python",
   "name": "python",
   "nbconvert_exporter": "python",
   "pygments_lexer": "ipython3",
   "version": "3.11.7"
  }
 },
 "nbformat": 4,
 "nbformat_minor": 5
}

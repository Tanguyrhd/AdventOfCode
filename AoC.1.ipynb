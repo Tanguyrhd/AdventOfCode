{
 "cells": [
  {
   "cell_type": "code",
   "execution_count": 3,
   "id": "b4e3a122-be44-49c3-ba40-dbadced3c911",
   "metadata": {
    "tags": []
   },
   "outputs": [],
   "source": [
    "import pandas as pd\n",
    "import numpy as np"
   ]
  },
  {
   "cell_type": "code",
   "execution_count": 59,
   "id": "bc984b66-087b-4701-ab7f-106bf3a8c97d",
   "metadata": {
    "tags": []
   },
   "outputs": [
    {
     "data": {
      "text/html": [
       "<div>\n",
       "<style scoped>\n",
       "    .dataframe tbody tr th:only-of-type {\n",
       "        vertical-align: middle;\n",
       "    }\n",
       "\n",
       "    .dataframe tbody tr th {\n",
       "        vertical-align: top;\n",
       "    }\n",
       "\n",
       "    .dataframe thead th {\n",
       "        text-align: right;\n",
       "    }\n",
       "</style>\n",
       "<table border=\"1\" class=\"dataframe\">\n",
       "  <thead>\n",
       "    <tr style=\"text-align: right;\">\n",
       "      <th></th>\n",
       "      <th>ID1</th>\n",
       "      <th>ID2</th>\n",
       "    </tr>\n",
       "  </thead>\n",
       "  <tbody>\n",
       "    <tr>\n",
       "      <th>0</th>\n",
       "      <td>39687</td>\n",
       "      <td>54930</td>\n",
       "    </tr>\n",
       "    <tr>\n",
       "      <th>1</th>\n",
       "      <td>86219</td>\n",
       "      <td>31559</td>\n",
       "    </tr>\n",
       "    <tr>\n",
       "      <th>2</th>\n",
       "      <td>48536</td>\n",
       "      <td>73145</td>\n",
       "    </tr>\n",
       "    <tr>\n",
       "      <th>3</th>\n",
       "      <td>19932</td>\n",
       "      <td>82178</td>\n",
       "    </tr>\n",
       "    <tr>\n",
       "      <th>4</th>\n",
       "      <td>87646</td>\n",
       "      <td>97411</td>\n",
       "    </tr>\n",
       "  </tbody>\n",
       "</table>\n",
       "</div>"
      ],
      "text/plain": [
       "     ID1    ID2\n",
       "0  39687  54930\n",
       "1  86219  31559\n",
       "2  48536  73145\n",
       "3  19932  82178\n",
       "4  87646  97411"
      ]
     },
     "execution_count": 59,
     "metadata": {},
     "output_type": "execute_result"
    }
   ],
   "source": [
    "# Point the path file of the dataset\n",
    "data = \"C:/Users/tangu/OneDrive/Documents/2- Perso/CODING/Projet_Portfolio/AdventofCode/2024/1.1.csv\"\n",
    "df = pd.read_csv(data)\n",
    "df.head()"
   ]
  },
  {
   "cell_type": "code",
   "execution_count": 61,
   "id": "a37b45a9-5bee-45c5-bd5e-da518a3ca92c",
   "metadata": {
    "tags": []
   },
   "outputs": [],
   "source": [
    "df1 = pd.DataFrame({col: sorted(df[col]) for col in df.columns})"
   ]
  },
  {
   "cell_type": "code",
   "execution_count": 63,
   "id": "41797e0f-11bd-4083-806f-d5913e89faf1",
   "metadata": {
    "tags": []
   },
   "outputs": [],
   "source": [
    "df1[\"dist\"]=abs(df1['ID1']-df1['ID2'])"
   ]
  },
  {
   "cell_type": "code",
   "execution_count": 65,
   "id": "80b59177-a8b7-4fd7-9ce5-1c9b11ac5cd3",
   "metadata": {
    "tags": []
   },
   "outputs": [],
   "source": [
    "result = df1['dist'].sum()"
   ]
  },
  {
   "cell_type": "code",
   "execution_count": 67,
   "id": "1739ff17-89de-4af3-966a-5c94b697137a",
   "metadata": {
    "tags": []
   },
   "outputs": [
    {
     "data": {
      "text/plain": [
       "1651298"
      ]
     },
     "execution_count": 67,
     "metadata": {},
     "output_type": "execute_result"
    }
   ],
   "source": [
    "result"
   ]
  },
  {
   "cell_type": "code",
   "execution_count": 127,
   "id": "68c2fc65-29bf-43bf-9237-a2cb697ec258",
   "metadata": {
    "tags": []
   },
   "outputs": [],
   "source": [
    "simi = {item:0 for item in df['ID1'].unique()}\n",
    "for loc in df['ID2']:\n",
    "    if loc in simi:\n",
    "        simi[loc] += 1"
   ]
  },
  {
   "cell_type": "code",
   "execution_count": 131,
   "id": "2df97797-2daf-45a3-a7a3-cda3adc4a4d3",
   "metadata": {
    "tags": []
   },
   "outputs": [],
   "source": [
    "df_simi = pd.DataFrame(list(simi.items()), columns=['ID', 'simi'])"
   ]
  },
  {
   "cell_type": "code",
   "execution_count": 137,
   "id": "4036c72e-4105-4bbf-99fc-8fceb67c332e",
   "metadata": {
    "tags": []
   },
   "outputs": [],
   "source": [
    "df_simi['Produit'] = df_simi['ID'] * df_simi['simi']"
   ]
  },
  {
   "cell_type": "code",
   "execution_count": 141,
   "id": "04a283f6-e813-44df-869f-207ceeb89403",
   "metadata": {
    "tags": []
   },
   "outputs": [
    {
     "data": {
      "text/plain": [
       "21306195"
      ]
     },
     "execution_count": 141,
     "metadata": {},
     "output_type": "execute_result"
    }
   ],
   "source": [
    "result2 = df_simi['Produit'].sum()\n",
    "result2"
   ]
  },
  {
   "cell_type": "code",
   "execution_count": 145,
   "id": "5cca513e-a887-4bc8-86ff-7fb5b7b3f965",
   "metadata": {
    "tags": []
   },
   "outputs": [],
   "source": [
    "for id2 in df['ID2']:\n",
    "    if id2 in df['ID1']:\n",
    "        df['simi'] += 1"
   ]
  },
  {
   "cell_type": "code",
   "execution_count": 147,
   "id": "6c27015e-505c-4026-808d-c3078fe027ee",
   "metadata": {
    "tags": []
   },
   "outputs": [
    {
     "data": {
      "text/html": [
       "<div>\n",
       "<style scoped>\n",
       "    .dataframe tbody tr th:only-of-type {\n",
       "        vertical-align: middle;\n",
       "    }\n",
       "\n",
       "    .dataframe tbody tr th {\n",
       "        vertical-align: top;\n",
       "    }\n",
       "\n",
       "    .dataframe thead th {\n",
       "        text-align: right;\n",
       "    }\n",
       "</style>\n",
       "<table border=\"1\" class=\"dataframe\">\n",
       "  <thead>\n",
       "    <tr style=\"text-align: right;\">\n",
       "      <th></th>\n",
       "      <th>ID1</th>\n",
       "      <th>ID2</th>\n",
       "    </tr>\n",
       "  </thead>\n",
       "  <tbody>\n",
       "    <tr>\n",
       "      <th>0</th>\n",
       "      <td>39687</td>\n",
       "      <td>54930</td>\n",
       "    </tr>\n",
       "    <tr>\n",
       "      <th>1</th>\n",
       "      <td>86219</td>\n",
       "      <td>31559</td>\n",
       "    </tr>\n",
       "    <tr>\n",
       "      <th>2</th>\n",
       "      <td>48536</td>\n",
       "      <td>73145</td>\n",
       "    </tr>\n",
       "    <tr>\n",
       "      <th>3</th>\n",
       "      <td>19932</td>\n",
       "      <td>82178</td>\n",
       "    </tr>\n",
       "    <tr>\n",
       "      <th>4</th>\n",
       "      <td>87646</td>\n",
       "      <td>97411</td>\n",
       "    </tr>\n",
       "    <tr>\n",
       "      <th>...</th>\n",
       "      <td>...</td>\n",
       "      <td>...</td>\n",
       "    </tr>\n",
       "    <tr>\n",
       "      <th>995</th>\n",
       "      <td>83597</td>\n",
       "      <td>72689</td>\n",
       "    </tr>\n",
       "    <tr>\n",
       "      <th>996</th>\n",
       "      <td>12914</td>\n",
       "      <td>79531</td>\n",
       "    </tr>\n",
       "    <tr>\n",
       "      <th>997</th>\n",
       "      <td>39621</td>\n",
       "      <td>90125</td>\n",
       "    </tr>\n",
       "    <tr>\n",
       "      <th>998</th>\n",
       "      <td>10029</td>\n",
       "      <td>95431</td>\n",
       "    </tr>\n",
       "    <tr>\n",
       "      <th>999</th>\n",
       "      <td>85400</td>\n",
       "      <td>15291</td>\n",
       "    </tr>\n",
       "  </tbody>\n",
       "</table>\n",
       "<p>1000 rows × 2 columns</p>\n",
       "</div>"
      ],
      "text/plain": [
       "       ID1    ID2\n",
       "0    39687  54930\n",
       "1    86219  31559\n",
       "2    48536  73145\n",
       "3    19932  82178\n",
       "4    87646  97411\n",
       "..     ...    ...\n",
       "995  83597  72689\n",
       "996  12914  79531\n",
       "997  39621  90125\n",
       "998  10029  95431\n",
       "999  85400  15291\n",
       "\n",
       "[1000 rows x 2 columns]"
      ]
     },
     "execution_count": 147,
     "metadata": {},
     "output_type": "execute_result"
    }
   ],
   "source": [
    "df"
   ]
  },
  {
   "cell_type": "code",
   "execution_count": null,
   "id": "4e87c7d8-d11a-4faf-a51e-c4e31eaf7490",
   "metadata": {},
   "outputs": [],
   "source": []
  }
 ],
 "metadata": {
  "kernelspec": {
   "display_name": "Python 3 (ipykernel)",
   "language": "python",
   "name": "python3"
  },
  "language_info": {
   "codemirror_mode": {
    "name": "ipython",
    "version": 3
   },
   "file_extension": ".py",
   "mimetype": "text/x-python",
   "name": "python",
   "nbconvert_exporter": "python",
   "pygments_lexer": "ipython3",
   "version": "3.11.7"
  }
 },
 "nbformat": 4,
 "nbformat_minor": 5
}
